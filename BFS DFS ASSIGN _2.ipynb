{
 "cells": [
  {
   "cell_type": "code",
   "execution_count": 1,
   "metadata": {},
   "outputs": [],
   "source": [
    "GRAPH = {1 : [8,14],\n",
    "         3 : [51,6,9],\n",
    "         6 : [3,8,51,57],\n",
    "         8 : [1,6,9,42],\n",
    "         9 : [3,8],\n",
    "         14 : [1,97],\n",
    "         42 : [],\n",
    "         51 : [3,6],\n",
    "         57 : [],\n",
    "         97 : []}"
   ]
  },
  {
   "cell_type": "code",
   "execution_count": 4,
   "metadata": {},
   "outputs": [],
   "source": [
    "#Defining function 'bfs' \n",
    "\n",
    "def bfs(GRAPH,start):\n",
    "    visited = []\n",
    "    queue = [start]\n",
    "\n",
    "    while queue:\n",
    "        node = queue.pop(0)\n",
    "        if node not in visited:\n",
    "            visited.append(node)\n",
    "            neighbours = GRAPH[node]\n",
    "           \n",
    "            for neighbour in neighbours:\n",
    "                queue.append(neighbour)\n",
    "    return visited"
   ]
  },
  {
   "cell_type": "code",
   "execution_count": null,
   "metadata": {},
   "outputs": [],
   "source": []
  },
  {
   "cell_type": "code",
   "execution_count": 5,
   "metadata": {},
   "outputs": [
    {
     "data": {
      "text/plain": [
       "[1, 8, 14, 6, 9, 42, 97, 3, 51, 57]"
      ]
     },
     "execution_count": 5,
     "metadata": {},
     "output_type": "execute_result"
    }
   ],
   "source": [
    "bfs(GRAPH,1)"
   ]
  },
  {
   "cell_type": "code",
   "execution_count": 6,
   "metadata": {},
   "outputs": [],
   "source": [
    "def dfs(GRAPH, start):\n",
    "    stack = [start]\n",
    "    path = []\n",
    "    \n",
    "    while stack:\n",
    "        vertex = stack.pop()\n",
    "        if vertex in path:\n",
    "            continue\n",
    "        path.append(vertex)\n",
    "        for neighbour in GRAPH[vertex]:\n",
    "            stack.append(neighbour)\n",
    "    return path"
   ]
  },
  {
   "cell_type": "code",
   "execution_count": 7,
   "metadata": {},
   "outputs": [],
   "source": [
    "adjacency_matrix = {1 : [8,14],\n",
    "         3 : [51,6,9],\n",
    "         6 : [3,8,51,57],\n",
    "         8 : [1,6,9,42],\n",
    "         9 : [3,8],\n",
    "         14 : [1,97],\n",
    "         42 : [],\n",
    "         51 : [3,6],\n",
    "         57 : [],\n",
    "         97 : []}"
   ]
  },
  {
   "cell_type": "code",
   "execution_count": 9,
   "metadata": {},
   "outputs": [
    {
     "name": "stdout",
     "output_type": "stream",
     "text": [
      "[1, 14, 97, 8, 42, 9, 3, 6, 57, 51]\n"
     ]
    }
   ],
   "source": [
    "print(dfs(adjacency_matrix,1))"
   ]
  }
 ],
 "metadata": {
  "kernelspec": {
   "display_name": "Python 3",
   "language": "python",
   "name": "python3"
  },
  "language_info": {
   "codemirror_mode": {
    "name": "ipython",
    "version": 3
   },
   "file_extension": ".py",
   "mimetype": "text/x-python",
   "name": "python",
   "nbconvert_exporter": "python",
   "pygments_lexer": "ipython3",
   "version": "3.7.1"
  }
 },
 "nbformat": 4,
 "nbformat_minor": 2
}
